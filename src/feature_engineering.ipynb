{
 "cells": [
  {
   "cell_type": "code",
   "execution_count": 4,
   "id": "1f13b919",
   "metadata": {},
   "outputs": [],
   "source": [
    "# src/feature_engineering.py\n",
    "\n",
    "import pandas as pd\n",
    "from sklearn.base import BaseEstimator, TransformerMixin"
   ]
  },
  {
   "cell_type": "code",
   "execution_count": 5,
   "id": "2918036d",
   "metadata": {},
   "outputs": [],
   "source": [
    "df = pd.read_csv('C:\\\\Users\\\\Hiwi\\\\Documents\\\\week5\\\\data.csv')"
   ]
  },
  {
   "cell_type": "code",
   "execution_count": 6,
   "id": "05a47b0d",
   "metadata": {},
   "outputs": [],
   "source": [
    "class AggregateTransactionFeatures(BaseEstimator, TransformerMixin):\n",
    "    def __init__(self, id_col='CustomerId', amount_col='Amount'):\n",
    "        self.id_col = id_col\n",
    "        self.amount_col = amount_col\n",
    "\n",
    "    def fit(self, X, y=None):\n",
    "        return self\n",
    "\n",
    "    def transform(self, X):\n",
    "        agg = X.groupby(self.id_col)[self.amount_col].agg(\n",
    "            total_amount='sum',\n",
    "            avg_amount='mean',\n",
    "            transaction_count='count',\n",
    "            std_amount='std'\n",
    "        ).reset_index()\n",
    "        return agg\n",
    "\n",
    "class TransactionTimeFeatures(BaseEstimator, TransformerMixin):\n",
    "    def __init__(self, datetime_col='TransactionStartTime'):\n",
    "        self.datetime_col = datetime_col\n",
    "\n",
    "    def fit(self, X, y=None):\n",
    "        return self\n",
    "\n",
    "    def transform(self, X):\n",
    "        X = X.copy()\n",
    "        X[self.datetime_col] = pd.to_datetime(X[self.datetime_col])\n",
    "        X['transaction_hour'] = X[self.datetime_col].dt.hour\n",
    "        X['transaction_day'] = X[self.datetime_col].dt.day\n",
    "        X['transaction_month'] = X[self.datetime_col].dt.month\n",
    "        X['transaction_year'] = X[self.datetime_col].dt.year\n",
    "        return X\n"
   ]
  },
  {
   "cell_type": "code",
   "execution_count": null,
   "id": "2c9add79",
   "metadata": {},
   "outputs": [],
   "source": []
  }
 ],
 "metadata": {
  "kernelspec": {
   "display_name": "Python 3 (ipykernel)",
   "language": "python",
   "name": "python3"
  },
  "language_info": {
   "codemirror_mode": {
    "name": "ipython",
    "version": 3
   },
   "file_extension": ".py",
   "mimetype": "text/x-python",
   "name": "python",
   "nbconvert_exporter": "python",
   "pygments_lexer": "ipython3",
   "version": "3.11.5"
  }
 },
 "nbformat": 4,
 "nbformat_minor": 5
}
