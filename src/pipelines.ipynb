{
 "cells": [
  {
   "cell_type": "code",
   "execution_count": 2,
   "id": "02d0162e",
   "metadata": {},
   "outputs": [
    {
     "ename": "ModuleNotFoundError",
     "evalue": "No module named 'pipelines'",
     "output_type": "error",
     "traceback": [
      "\u001b[1;31m---------------------------------------------------------------------------\u001b[0m",
      "\u001b[1;31mModuleNotFoundError\u001b[0m                       Traceback (most recent call last)",
      "Cell \u001b[1;32mIn[2], line 14\u001b[0m\n\u001b[0;32m     11\u001b[0m \u001b[38;5;28;01mfrom\u001b[39;00m \u001b[38;5;21;01msklearn\u001b[39;00m\u001b[38;5;21;01m.\u001b[39;00m\u001b[38;5;21;01mimpute\u001b[39;00m \u001b[38;5;28;01mimport\u001b[39;00m SimpleImputer\n\u001b[0;32m     13\u001b[0m \u001b[38;5;66;03m#from src.feature_engineering import TransactionTimeFeatures\u001b[39;00m\n\u001b[1;32m---> 14\u001b[0m \u001b[38;5;28;01mfrom\u001b[39;00m \u001b[38;5;21;01mpipelines\u001b[39;00m \u001b[38;5;28;01mimport\u001b[39;00m build_transaction_pipeline\n\u001b[0;32m     15\u001b[0m \u001b[38;5;28;01mfrom\u001b[39;00m \u001b[38;5;21;01mfeature_engineering\u001b[39;00m \u001b[38;5;28;01mimport\u001b[39;00m TransactionTimeFeatures\n",
      "\u001b[1;31mModuleNotFoundError\u001b[0m: No module named 'pipelines'"
     ]
    }
   ],
   "source": [
    "import sys\n",
    "import os\n",
    "\n",
    "# Add the current working directory to Python path\n",
    "sys.path.append(os.getcwd())\n",
    "\n",
    "import pandas as pd\n",
    "from sklearn.pipeline import Pipeline\n",
    "from sklearn.compose import ColumnTransformer\n",
    "from sklearn.preprocessing import OneHotEncoder, StandardScaler\n",
    "from sklearn.impute import SimpleImputer\n",
    "\n",
    "#from src.feature_engineering import TransactionTimeFeatures\n",
    "from pipelines import build_transaction_pipeline\n",
    "from feature_engineering import TransactionTimeFeatures\n",
    "\n",
    "#import sys\n",
    "#sys.path.append('./src')"
   ]
  },
  {
   "cell_type": "code",
   "execution_count": 13,
   "id": "722f03f8",
   "metadata": {},
   "outputs": [],
   "source": [
    "df = pd.read_csv('C:\\\\Users\\\\Hiwi\\\\Documents\\\\week5\\\\data.csv')"
   ]
  },
  {
   "cell_type": "code",
   "execution_count": 8,
   "id": "c603361b",
   "metadata": {},
   "outputs": [],
   "source": [
    "# ================================\n",
    "# Define column groups\n",
    "# ================================\n",
    "\n",
    "CATEGORICAL_COLS = [\n",
    "    'CurrencyCode', 'ProviderId', 'ProductId', 'ProductCategory', 'ChannelId', 'PricingStrategy'\n",
    "]\n",
    "\n",
    "NUMERICAL_COLS = [\n",
    "    'Amount', 'Value'\n",
    "]\n",
    "\n",
    "DATETIME_COL = 'TransactionStartTime'\n",
    "\n",
    "# ================================\n",
    "# Pipelines for sub-transforms\n",
    "# ================================\n",
    "\n",
    "# Pipeline for categorical features\n",
    "categorical_pipeline = Pipeline(steps=[\n",
    "    ('imputer', SimpleImputer(strategy='most_frequent')),\n",
    "    ('onehot', OneHotEncoder(handle_unknown='ignore'))\n",
    "])\n",
    "\n",
    "# Pipeline for numerical features\n",
    "numerical_pipeline = Pipeline(steps=[\n",
    "    ('imputer', SimpleImputer(strategy='median')),\n",
    "    ('scaler', StandardScaler())\n",
    "])\n",
    "\n",
    "# ================================\n",
    "# Preprocessing ColumnTransformer\n",
    "# ================================\n",
    "\n",
    "def build_transaction_pipeline():\n",
    "    preprocessing = ColumnTransformer(transformers=[\n",
    "        ('num', numerical_pipeline, NUMERICAL_COLS),\n",
    "        ('cat', categorical_pipeline, CATEGORICAL_COLS)\n",
    "    ])\n",
    "\n",
    "    # Final pipeline with datetime features first\n",
    "    full_pipeline = Pipeline(steps=[\n",
    "        ('datetime_features', TransactionTimeFeatures(datetime_col=DATETIME_COL)),\n",
    "        ('preprocessing', preprocessing)\n",
    "    ])\n",
    "\n",
    "    return full_pipeline\n"
   ]
  },
  {
   "cell_type": "code",
   "execution_count": null,
   "id": "14275f57",
   "metadata": {},
   "outputs": [],
   "source": []
  }
 ],
 "metadata": {
  "kernelspec": {
   "display_name": "Python 3 (ipykernel)",
   "language": "python",
   "name": "python3"
  },
  "language_info": {
   "codemirror_mode": {
    "name": "ipython",
    "version": 3
   },
   "file_extension": ".py",
   "mimetype": "text/x-python",
   "name": "python",
   "nbconvert_exporter": "python",
   "pygments_lexer": "ipython3",
   "version": "3.11.5"
  }
 },
 "nbformat": 4,
 "nbformat_minor": 5
}
